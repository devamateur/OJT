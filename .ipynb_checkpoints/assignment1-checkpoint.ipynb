{
 "cells": [
  {
   "cell_type": "markdown",
   "id": "1d25156f",
   "metadata": {},
   "source": [
    "# OJT 과제 1\n",
    "<br/> \n",
    "\n",
    "### 1. 문자 치환\n",
    "- 코퍼스 사전: pl = {\"aaa\": \"AA\", \"bbb\": \"BBBBB\"} <br/>\n",
    "입력: \"sdskjld aaadskkkk fdfdf qqqbbbwqmf\" <br/>\n",
    "출력: \"sdskjld **AA**dskkkk fdfdf qqq**BBBBB**wqmf\""
   ]
  },
  {
   "cell_type": "code",
   "execution_count": 7,
   "id": "3988133f",
   "metadata": {},
   "outputs": [
    {
     "name": "stdout",
     "output_type": "stream",
     "text": [
      "정규표현식 1:  sdskjld AAdskkkk fdfdf qqqBBBBBwqmf\n",
      "정규표현식 2:  sdskjld AAdskkkk fdfdf qqqBBBBBwqmf\n"
     ]
    }
   ],
   "source": [
    "pl = {\"aaa\": \"AA\", \"bbb\": \"BBBBB\"}\n",
    "txt = \"sdskjld aaadskkkk fdfdf qqqbbbwqmf\"\n",
    "\n",
    "# 정규표현식 이용\n",
    "import re\n",
    "\n",
    "result1 = re.sub('[a]{3}', pl['aaa'], txt)      \n",
    "result1 = re.sub('[b]{3}', pl['bbb'], result1)\n",
    "\n",
    "txt = \"sdskjld aaadskkkk fdfdf qqqbbbwqmf\"\n",
    "\n",
    "# 정규표현식 - lookahead, lookbehind 이용\n",
    "result2 = re.sub('(?<= ).*(?=[d][s][k]{3})', pl['aaa'], txt)\n",
    "result2 = re.sub('(?<=[q]{3}).*(?=[w])', pl['bbb'], result2)\n",
    "\n",
    "print(\"정규표현식 1: \", result1)\n",
    "print(\"정규표현식 2: \", result2)\n",
    "\n",
    "# 결과: sdskjld AAdskkkk fdfdf qqqBBBBBwqmf"
   ]
  },
  {
   "cell_type": "markdown",
   "id": "7a42cb3e",
   "metadata": {},
   "source": [
    "<br/> <br/>\n",
    "\n",
    "### 2. N-gram \n",
    "txt = \"Biden, who met with Andersson and Finnish President Sauli Niinisto in the Oval Office before making public remarks, did not reference any specific security measures the United States would provide the two countries before their membership is finalized. The application period is seen as a particularly vulnerable one, because the two countries are defying years of Russian threats against joining NATO but don’t yet fall under the alliance’s security umbrella.\"\n",
    "\n",
    "- 주어진 텍스트를 이용해 char단위와 word 단위의 tri-gram 까지의 ngram 구하기\n",
    "- space도 char로 간주\n",
    "- 빈도수가 높은 순으로 정렬"
   ]
  },
  {
   "cell_type": "code",
   "execution_count": null,
   "id": "17cb0e42",
   "metadata": {},
   "outputs": [],
   "source": [
    "txt = \"Biden, who met with Andersson and Finnish President Sauli Niinisto in the Oval Office before making public remarks, did not reference any specific security measures the United States would provide the two countries before their membership is finalized. The application period is seen as a particularly vulnerable one, because the two countries are defying years of Russian threats against joining NATO but don’t yet fall under the alliance’s security umbrella.\"\n",
    "\n",
    "# 1. char 단위\n",
    "# 1) 1-gram\n",
    "\n",
    "# 2) 2-gram\n",
    "\n",
    "# 3) 3-gram\n",
    "\n",
    "# 1. word 단위\n",
    "# 1) 1-gram\n",
    "\n",
    "# 2) 2-gram\n",
    "\n",
    "# 3) 3-gram\n",
    "\n",
    "# 최종 결과물은 빈도수 높은 순으로 정렬"
   ]
  }
 ],
 "metadata": {
  "kernelspec": {
   "display_name": "Python 3 (ipykernel)",
   "language": "python",
   "name": "python3"
  },
  "language_info": {
   "codemirror_mode": {
    "name": "ipython",
    "version": 3
   },
   "file_extension": ".py",
   "mimetype": "text/x-python",
   "name": "python",
   "nbconvert_exporter": "python",
   "pygments_lexer": "ipython3",
   "version": "3.9.7"
  }
 },
 "nbformat": 4,
 "nbformat_minor": 5
}
