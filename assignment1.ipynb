{
 "cells": [
  {
   "cell_type": "markdown",
   "id": "1d25156f",
   "metadata": {},
   "source": [
    "# OJT 과제 1\n",
    "<br/> \n",
    "\n",
    "### 1. 문자 치환\n",
    "- 코퍼스 사전: pl = {\"aaa\": \"AA\", \"bbb\": \"BBBBB\"} <br/>\n",
    "입력: \"sdskjld aaadskkkk fdfdf qqqbbbwqmf\" <br/>\n",
    "출력: \"sdskjld **AA**dskkkk fdfdf qqq**BBBBB**wqmf\""
   ]
  },
  {
   "cell_type": "code",
   "execution_count": 93,
   "id": "3988133f",
   "metadata": {},
   "outputs": [
    {
     "name": "stdout",
     "output_type": "stream",
     "text": [
      "정규표현식 1:  sdskjld AAdskkkk fdfdf qqqBBBBBwqmf\n",
      "정규표현식 2:  sdskjld AAdskkkk fdfdf qqqBBBBBwqmf\n"
     ]
    }
   ],
   "source": [
    "pl = {\"aaa\": \"AA\", \"bbb\": \"BBBBB\"}\n",
    "txt = \"sdskjld aaadskkkk fdfdf qqqbbbwqmf\"\n",
    "\n",
    "# 정규표현식 이용\n",
    "import re\n",
    "\n",
    "result1 = re.sub('[a]{3}', pl['aaa'], txt)      \n",
    "result1 = re.sub('[b]{3}', pl['bbb'], result1)\n",
    "\n",
    "txt = \"sdskjld aaadskkkk fdfdf qqqbbbwqmf\"\n",
    "\n",
    "# 정규표현식 - lookahead, lookbehind 이용\n",
    "result2 = re.sub('(?<= ).*(?=[d][s][k]{3})', pl['aaa'], txt)        # lookahead: (?=), lookbehind: (?<=)\n",
    "result2 = re.sub('(?<=[q]{3}).*(?=[w])', pl['bbb'], result2)\n",
    "\n",
    "print(\"정규표현식 1: \", result1)\n",
    "print(\"정규표현식 2: \", result2)\n",
    "\n",
    "# 결과: sdskjld AAdskkkk fdfdf qqqBBBBBwqmf"
   ]
  },
  {
   "cell_type": "markdown",
   "id": "7a42cb3e",
   "metadata": {},
   "source": [
    "<br/> <br/>\n",
    "\n",
    "### 2. N-gram \n",
    "txt = \"Biden, who met with Andersson and Finnish President Sauli Niinisto in the Oval Office before making public remarks, did not reference any specific security measures the United States would provide the two countries before their membership is finalized. The application period is seen as a particularly vulnerable one, because the two countries are defying years of Russian threats against joining NATO but don’t yet fall under the alliance’s security umbrella.\"\n",
    "\n",
    "- 주어진 텍스트를 이용해 char단위와 word 단위의 tri-gram 까지의 ngram 구하기\n",
    "- space도 char로 간주\n",
    "- 빈도수가 높은 순으로 정렬"
   ]
  },
  {
   "cell_type": "code",
   "execution_count": 78,
   "id": "1ef29745",
   "metadata": {},
   "outputs": [],
   "source": [
    "txt = \"Biden, who met with Andersson and Finnish President Sauli Niinisto in the Oval Office before making public remarks, did not reference any specific security measures the United States would provide the two countries before their membership is finalized. The application period is seen as a particularly vulnerable one, because the two countries are defying years of Russian threats against joining NATO but don’t yet fall under the alliance’s security umbrella.\"\n",
    "\n",
    "\n",
    "def to_ngrams(txt, n, isChar):    # isChar: char단위 or word단위인지 \n",
    "    if isChar:\n",
    "        if n == 1:\n",
    "            return list(txt)\n",
    "        elif n == 2:\n",
    "            return list(zip(txt, txt[1:]))\n",
    "        else:\n",
    "            return list(zip(txt, txt[1:], txt[2:]))\n",
    "    \n",
    "    if not isChar:\n",
    "        txt = txt.split()\n",
    "        \n",
    "        if n == 1:\n",
    "            return txt\n",
    "        elif n == 2:\n",
    "            return list(zip(txt, txt[1:]))\n",
    "        else:\n",
    "            return list(zip(txt, txt[1:], txt[2:]))\n",
    "\n",
    "        \n",
    "# n-gram 빈도 카운트\n",
    "def count_ngrams(txt, n):     \n",
    "    \n",
    "    char_ngram_counter={}\n",
    "    word_ngram_counter={}\n",
    "    \n",
    "    for n in range(1, n+1):            \n",
    "        for ngram in to_ngrams(txt, n, 1):        # char 단위 빈도수\n",
    "            if ngram in char_ngram_counter:\n",
    "                char_ngram_counter[ngram] += 1\n",
    "            else:\n",
    "                char_ngram_counter[ngram] = 1\n",
    "                \n",
    "        for ngram in to_ngrams(txt, n, 0):        # word 단위 빈도수\n",
    "            if ngram in word_ngram_counter:\n",
    "                word_ngram_counter[ngram] += 1\n",
    "            else:\n",
    "                word_ngram_counter[ngram] = 1\n",
    "\n",
    "    char_ngram_counter = dict(sorted(char_ngram_counter.items(), key=lambda x: x[1], reverse=True))\n",
    "    \n",
    "    word_ngram_counter = dict(sorted(word_ngram_counter.items(), key=lambda x: x[1], reverse=True))\n",
    "    \n",
    "    return char_ngram_counter, word_ngram_counter"
   ]
  },
  {
   "cell_type": "code",
   "execution_count": 81,
   "id": "b4028728",
   "metadata": {},
   "outputs": [
    {
     "name": "stdout",
     "output_type": "stream",
     "text": [
      "###### char #####\n",
      "{' ': 69, 'e': 51, 'i': 38, 'n': 29, 't': 28, 'a': 27, 's': 26, 'r': 25, 'o': 18, 'l': 16, 'u': 15, 'd': 14, ('e', ' '): 14, 'c': 13, 'h': 12, 'f': 10, ('r', 'e'): 10, ('s', ' '): 10, ('i', 'n'): 9, (' ', 't'): 9, 'b': 8, 'p': 8, ('t', 'h'): 8, (' ', 'a'): 8, 'm': 7, 'y': 7, ('t', ' '): 7, ('h', 'e'): 7, (' ', 't', 'h'): 7, ('d', 'e'): 6, ('e', 'r'): 6, ('t', 'h', 'e'): 6, ('h', 'e', ' '): 6, 'w': 5, ('n', ' '): 5, ('d', ' '): 5, ('e', 's'): 5, ('l', 'i'): 5, ('i', 'c'): 5, ('a', 'r'): 5, ('r', 'i'): 5, ('e', ' ', 't'): 5, 'g': 4, ('i', 'd'): 4, ('e', 'n'): 4, ('o', ' '): 4, (' ', 'm'): 4, ('i', 't'): 4, ('o', 'n'): 4, ('a', 'n'): 4, ('n', 'i'): 4, ('i', 's'): 4, ('u', 'l'): 4, ('a', 'l'): 4, (' ', 'b'): 4, ('b', 'e'): 4, ('e', 'f'): 4, (' ', 'p'): 4, ('y', ' '): 4, (' ', 's'): 4, ('e', 'c'): 4, ('s', 'e'): 4, ('e', 's', ' '): 4, ',': 3, 'O': 3, 'v': 3, (',', ' '): 3, (' ', 'w'): 3, ('m', 'e'): 3, ('n', 'd'): 3, ('r', 's'): 3, ('n', 't'): 3, (' ', 'i'): 3, ('f', 'i'): 3, ('c', 'e'): 3, ('n', 'g'): 3, ('g', ' '): 3, (' ', 'd'): 3, ('c', 'u'): 3, ('u', 'r'): 3, ('e', 'a'): 3, ('a', 't'): 3, ('w', 'o'): 3, ('o', 'u'): 3, ('u', 'n'): 3, ('l', 'l'): 3, ('i', 'd', 'e'): 3, (' ', 'm', 'e'): 3, (' ', 'b', 'e'): 3, ('r', 'e', ' '): 3, ('i', 'n', 'g'): 3, ('n', 'g', ' '): 3, ('e', ' ', 'a'): 3, (' ', 's', 'e'): 3, ('s', ' ', 'a'): 3, 'A': 2, 'S': 2, 'N': 2, 'k': 2, '.': 2, 'T': 2, '’': 2, ('e', 't'): 2, ('h', ' '): 2, ('s', 's'): 2, ('s', 'h'): 2, ('s', 'i'): 2, (' ', 'S'): 2, ('a', 'u'): 2, (' ', 'N'): 2, ('s', 't'): 2, (' ', 'O'): 2, ('l', ' '): 2, ('f', 'o'): 2, ('o', 'r'): 2, ('m', 'a'): 2, ('b', 'l'): 2, ('c', ' '): 2, (' ', 'r'): 2, ('e', 'm'): 2, ('n', 'c'): 2, ('p', 'e'): 2, ('t', 'y'): 2, ('a', 's'): 2, ('t', 'e'): 2, ('e', 'd'): 2, ('t', 'w'): 2, (' ', 'c'): 2, ('c', 'o'): 2, ('t', 'r'): 2, ('i', 'e'): 2, ('r', ' '): 2, ('m', 'b'): 2, (' ', 'f'): 2, ('c', 'a'): 2, ('t', 'i'): 2, ('i', 'o'): 2, ('l', 'a'): 2, ('n', 'e'): 2, (' ', 'o'): 2, ('u', 's'): 2, (' ', 'y'): 2, ('y', 'e'): 2, ('i', 'a'): 2, (' ', 'u'): 2, ('d', 'e', 'n'): 2, ('e', 't', ' '): 2, ('n', 'd', 'e'): 2, ('d', 'e', 'r'): 2, ('e', 'r', 's'): 2, ('o', 'n', ' '): 2, ('n', ' ', 'a'): 2, (' ', 'a', 'n'): 2, ('n', 'i', 's'): 2, ('r', 'e', 's'): 2, ('i', 'n', 'i'): 2, ('n', ' ', 't'): 2, ('f', 'i', 'c'): 2, ('c', 'e', ' '): 2, ('b', 'e', 'f'): 2, ('e', 'f', 'o'): 2, ('f', 'o', 'r'): 2, ('o', 'r', 'e'): 2, ('l', 'i', 'c'): 2, ('i', 'c', ' '): 2, (' ', 'r', 'e'): 2, ('n', 'c', 'e'): 2, ('s', 'e', 'c'): 2, ('e', 'c', 'u'): 2, ('c', 'u', 'r'): 2, ('u', 'r', 'i'): 2, ('r', 'i', 't'): 2, ('i', 't', 'y'): 2, ('t', 'y', ' '): 2, (' ', 't', 'w'): 2, ('t', 'w', 'o'): 2, ('w', 'o', ' '): 2, ('o', ' ', 'c'): 2, (' ', 'c', 'o'): 2, ('c', 'o', 'u'): 2, ('o', 'u', 'n'): 2, ('u', 'n', 't'): 2, ('n', 't', 'r'): 2, ('t', 'r', 'i'): 2, ('r', 'i', 'e'): 2, ('i', 'e', 's'): 2, (' ', 'i', 's'): 2, ('i', 's', ' '): 2, ('s', ' ', 's'): 2, (' ', 'y', 'e'): 2, ('i', 'a', 'n'): 2, ('a', 'l', 'l'): 2, 'B': 1, 'F': 1, 'P': 1, 'U': 1, 'z': 1, 'R': 1, 'j': 1, ('B', 'i'): 1, ('n', ','): 1, ('w', 'h'): 1, ('h', 'o'): 1, ('w', 'i'): 1, (' ', 'A'): 1, ('A', 'n'): 1, ('s', 'o'): 1, (' ', 'F'): 1, ('F', 'i'): 1, ('n', 'n'): 1, (' ', 'P'): 1, ('P', 'r'): 1, ('S', 'a'): 1, ('i', ' '): 1, ('N', 'i'): 1, ('i', 'i'): 1, ('t', 'o'): 1, ('O', 'v'): 1, ('v', 'a'): 1, ('O', 'f'): 1, ('f', 'f'): 1, ('a', 'k'): 1, ('k', 'i'): 1, ('p', 'u'): 1, ('u', 'b'): 1, ('r', 'k'): 1, ('k', 's'): 1, ('s', ','): 1, ('d', 'i'): 1, (' ', 'n'): 1, ('n', 'o'): 1, ('o', 't'): 1, ('f', 'e'): 1, ('n', 'y'): 1, ('s', 'p'): 1, ('c', 'i'): 1, ('i', 'f'): 1, ('s', 'u'): 1, (' ', 'U'): 1, ('U', 'n'): 1, ('S', 't'): 1, ('t', 'a'): 1, ('l', 'd'): 1, ('p', 'r'): 1, ('r', 'o'): 1, ('o', 'v'): 1, ('v', 'i'): 1, ('e', 'i'): 1, ('i', 'r'): 1, ('h', 'i'): 1, ('i', 'p'): 1, ('p', ' '): 1, ('n', 'a'): 1, ('i', 'z'): 1, ('z', 'e'): 1, ('d', '.'): 1, ('.', ' '): 1, (' ', 'T'): 1, ('T', 'h'): 1, ('a', 'p'): 1, ('p', 'p'): 1, ('p', 'l'): 1, ('o', 'd'): 1, ('e', 'e'): 1, ('a', ' '): 1, ('p', 'a'): 1, ('r', 't'): 1, ('r', 'l'): 1, ('l', 'y'): 1, (' ', 'v'): 1, ('v', 'u'): 1, ('l', 'n'): 1, ('r', 'a'): 1, ('a', 'b'): 1, ('l', 'e'): 1, ('e', ','): 1, ('f', 'y'): 1, ('y', 'i'): 1, ('o', 'f'): 1, ('f', ' '): 1, (' ', 'R'): 1, ('R', 'u'): 1, ('h', 'r'): 1, ('t', 's'): 1, ('a', 'g'): 1, ('g', 'a'): 1, ('a', 'i'): 1, ('n', 's'): 1, (' ', 'j'): 1, ('j', 'o'): 1, ('o', 'i'): 1, ('N', 'A'): 1, ('A', 'T'): 1, ('T', 'O'): 1, ('O', ' '): 1, ('b', 'u'): 1, ('u', 't'): 1, ('d', 'o'): 1, ('n', '’'): 1, ('’', 't'): 1, ('f', 'a'): 1, ('e', '’'): 1, ('’', 's'): 1, ('u', 'm'): 1, ('b', 'r'): 1, ('e', 'l'): 1, ('a', '.'): 1, ('B', 'i', 'd'): 1, ('e', 'n', ','): 1, ('n', ',', ' '): 1, (',', ' ', 'w'): 1, (' ', 'w', 'h'): 1, ('w', 'h', 'o'): 1, ('h', 'o', ' '): 1, ('o', ' ', 'm'): 1, ('m', 'e', 't'): 1, ('t', ' ', 'w'): 1, (' ', 'w', 'i'): 1, ('w', 'i', 't'): 1, ('i', 't', 'h'): 1, ('t', 'h', ' '): 1, ('h', ' ', 'A'): 1, (' ', 'A', 'n'): 1, ('A', 'n', 'd'): 1, ('r', 's', 's'): 1, ('s', 's', 'o'): 1, ('s', 'o', 'n'): 1, ('a', 'n', 'd'): 1, ('n', 'd', ' '): 1, ('d', ' ', 'F'): 1, (' ', 'F', 'i'): 1, ('F', 'i', 'n'): 1, ('i', 'n', 'n'): 1, ('n', 'n', 'i'): 1, ('i', 's', 'h'): 1, ('s', 'h', ' '): 1, ('h', ' ', 'P'): 1, (' ', 'P', 'r'): 1, ('P', 'r', 'e'): 1, ('e', 's', 'i'): 1, ('s', 'i', 'd'): 1, ('e', 'n', 't'): 1, ('n', 't', ' '): 1, ('t', ' ', 'S'): 1, (' ', 'S', 'a'): 1, ('S', 'a', 'u'): 1, ('a', 'u', 'l'): 1, ('u', 'l', 'i'): 1, ('l', 'i', ' '): 1, ('i', ' ', 'N'): 1, (' ', 'N', 'i'): 1, ('N', 'i', 'i'): 1, ('i', 'i', 'n'): 1, ('i', 's', 't'): 1, ('s', 't', 'o'): 1, ('t', 'o', ' '): 1, ('o', ' ', 'i'): 1, (' ', 'i', 'n'): 1, ('i', 'n', ' '): 1, ('e', ' ', 'O'): 1, (' ', 'O', 'v'): 1, ('O', 'v', 'a'): 1, ('v', 'a', 'l'): 1, ('a', 'l', ' '): 1, ('l', ' ', 'O'): 1, (' ', 'O', 'f'): 1, ('O', 'f', 'f'): 1, ('f', 'f', 'i'): 1, ('i', 'c', 'e'): 1, ('e', ' ', 'b'): 1, ('e', ' ', 'm'): 1, (' ', 'm', 'a'): 1, ('m', 'a', 'k'): 1, ('a', 'k', 'i'): 1, ('k', 'i', 'n'): 1, ('g', ' ', 'p'): 1, (' ', 'p', 'u'): 1, ('p', 'u', 'b'): 1, ('u', 'b', 'l'): 1, ('b', 'l', 'i'): 1, ('c', ' ', 'r'): 1, ('r', 'e', 'm'): 1, ('e', 'm', 'a'): 1, ('m', 'a', 'r'): 1, ('a', 'r', 'k'): 1, ('r', 'k', 's'): 1, ('k', 's', ','): 1, ('s', ',', ' '): 1, (',', ' ', 'd'): 1, (' ', 'd', 'i'): 1, ('d', 'i', 'd'): 1, ('i', 'd', ' '): 1, ('d', ' ', 'n'): 1, (' ', 'n', 'o'): 1, ('n', 'o', 't'): 1, ('o', 't', ' '): 1, ('t', ' ', 'r'): 1, ('r', 'e', 'f'): 1, ('e', 'f', 'e'): 1, ('f', 'e', 'r'): 1, ('e', 'r', 'e'): 1, ('r', 'e', 'n'): 1, ('e', 'n', 'c'): 1, ('a', 'n', 'y'): 1, ('n', 'y', ' '): 1, ('y', ' ', 's'): 1, (' ', 's', 'p'): 1, ('s', 'p', 'e'): 1, ('p', 'e', 'c'): 1, ('e', 'c', 'i'): 1, ('c', 'i', 'f'): 1, ('i', 'f', 'i'): 1, ('c', ' ', 's'): 1, ('y', ' ', 'm'): 1, ('m', 'e', 'a'): 1, ('e', 'a', 's'): 1, ('a', 's', 'u'): 1, ('s', 'u', 'r'): 1, ('u', 'r', 'e'): 1, ('s', ' ', 't'): 1, ('e', ' ', 'U'): 1, (' ', 'U', 'n'): 1, ('U', 'n', 'i'): 1, ('n', 'i', 't'): 1, ('i', 't', 'e'): 1, ('t', 'e', 'd'): 1, ('e', 'd', ' '): 1, ('d', ' ', 'S'): 1, (' ', 'S', 't'): 1, ('S', 't', 'a'): 1, ('t', 'a', 't'): 1, ('a', 't', 'e'): 1, ('t', 'e', 's'): 1, ('s', ' ', 'w'): 1, (' ', 'w', 'o'): 1, ('w', 'o', 'u'): 1, ('o', 'u', 'l'): 1, ('u', 'l', 'd'): 1, ('l', 'd', ' '): 1, ('d', ' ', 'p'): 1, (' ', 'p', 'r'): 1, ('p', 'r', 'o'): 1, ('r', 'o', 'v'): 1, ('o', 'v', 'i'): 1, ('v', 'i', 'd'): 1, ('d', 'e', ' '): 1, ('s', ' ', 'b'): 1, ('h', 'e', 'i'): 1, ('e', 'i', 'r'): 1, ('i', 'r', ' '): 1, ('r', ' ', 'm'): 1, ('m', 'e', 'm'): 1, ('e', 'm', 'b'): 1, ('m', 'b', 'e'): 1, ('b', 'e', 'r'): 1, ('r', 's', 'h'): 1, ('s', 'h', 'i'): 1, ('h', 'i', 'p'): 1, ('i', 'p', ' '): 1, ('p', ' ', 'i'): 1, ('s', ' ', 'f'): 1, (' ', 'f', 'i'): 1, ('f', 'i', 'n'): 1, ('i', 'n', 'a'): 1, ('n', 'a', 'l'): 1, ('a', 'l', 'i'): 1, ('l', 'i', 'z'): 1, ('i', 'z', 'e'): 1, ('z', 'e', 'd'): 1, ('e', 'd', '.'): 1, ('d', '.', ' '): 1, ('.', ' ', 'T'): 1, (' ', 'T', 'h'): 1, ('T', 'h', 'e'): 1, (' ', 'a', 'p'): 1, ('a', 'p', 'p'): 1, ('p', 'p', 'l'): 1, ('p', 'l', 'i'): 1, ('i', 'c', 'a'): 1, ('c', 'a', 't'): 1, ('a', 't', 'i'): 1, ('t', 'i', 'o'): 1, ('i', 'o', 'n'): 1, ('n', ' ', 'p'): 1, (' ', 'p', 'e'): 1, ('p', 'e', 'r'): 1, ('e', 'r', 'i'): 1, ('r', 'i', 'o'): 1, ('i', 'o', 'd'): 1, ('o', 'd', ' '): 1, ('d', ' ', 'i'): 1, ('s', 'e', 'e'): 1, ('e', 'e', 'n'): 1, ('e', 'n', ' '): 1, (' ', 'a', 's'): 1, ('a', 's', ' '): 1, (' ', 'a', ' '): 1, ('a', ' ', 'p'): 1, (' ', 'p', 'a'): 1, ('p', 'a', 'r'): 1, ('a', 'r', 't'): 1, ('r', 't', 'i'): 1, ('t', 'i', 'c'): 1, ('i', 'c', 'u'): 1, ('c', 'u', 'l'): 1, ('u', 'l', 'a'): 1, ('l', 'a', 'r'): 1, ('a', 'r', 'l'): 1, ('r', 'l', 'y'): 1, ('l', 'y', ' '): 1, ('y', ' ', 'v'): 1, (' ', 'v', 'u'): 1, ('v', 'u', 'l'): 1, ('u', 'l', 'n'): 1, ('l', 'n', 'e'): 1, ('n', 'e', 'r'): 1, ('e', 'r', 'a'): 1, ('r', 'a', 'b'): 1, ('a', 'b', 'l'): 1, ('b', 'l', 'e'): 1, ('l', 'e', ' '): 1, ('e', ' ', 'o'): 1, (' ', 'o', 'n'): 1, ('o', 'n', 'e'): 1, ('n', 'e', ','): 1, ('e', ',', ' '): 1, (',', ' ', 'b'): 1, ('b', 'e', 'c'): 1, ('e', 'c', 'a'): 1, ('c', 'a', 'u'): 1, ('a', 'u', 's'): 1, ('u', 's', 'e'): 1, ('s', 'e', ' '): 1, (' ', 'a', 'r'): 1, ('a', 'r', 'e'): 1, ('e', ' ', 'd'): 1, (' ', 'd', 'e'): 1, ('d', 'e', 'f'): 1, ('e', 'f', 'y'): 1, ('f', 'y', 'i'): 1, ('y', 'i', 'n'): 1, ('g', ' ', 'y'): 1, ('y', 'e', 'a'): 1, ('e', 'a', 'r'): 1, ('a', 'r', 's'): 1, ('r', 's', ' '): 1, ('s', ' ', 'o'): 1, (' ', 'o', 'f'): 1, ('o', 'f', ' '): 1, ('f', ' ', 'R'): 1, (' ', 'R', 'u'): 1, ('R', 'u', 's'): 1, ('u', 's', 's'): 1, ('s', 's', 'i'): 1, ('s', 'i', 'a'): 1, ('a', 'n', ' '): 1, ('t', 'h', 'r'): 1, ('h', 'r', 'e'): 1, ('r', 'e', 'a'): 1, ('e', 'a', 't'): 1, ('a', 't', 's'): 1, ('t', 's', ' '): 1, (' ', 'a', 'g'): 1, ('a', 'g', 'a'): 1, ('g', 'a', 'i'): 1, ('a', 'i', 'n'): 1, ('i', 'n', 's'): 1, ('n', 's', 't'): 1, ('s', 't', ' '): 1, ('t', ' ', 'j'): 1, (' ', 'j', 'o'): 1, ('j', 'o', 'i'): 1, ('o', 'i', 'n'): 1, ('n', 'i', 'n'): 1, ('g', ' ', 'N'): 1, (' ', 'N', 'A'): 1, ('N', 'A', 'T'): 1, ('A', 'T', 'O'): 1, ('T', 'O', ' '): 1, ('O', ' ', 'b'): 1, (' ', 'b', 'u'): 1, ('b', 'u', 't'): 1, ('u', 't', ' '): 1, ('t', ' ', 'd'): 1, (' ', 'd', 'o'): 1, ('d', 'o', 'n'): 1, ('o', 'n', '’'): 1, ('n', '’', 't'): 1, ('’', 't', ' '): 1, ('t', ' ', 'y'): 1, ('y', 'e', 't'): 1, ('t', ' ', 'f'): 1, (' ', 'f', 'a'): 1, ('f', 'a', 'l'): 1, ('l', 'l', ' '): 1, ('l', ' ', 'u'): 1, (' ', 'u', 'n'): 1, ('u', 'n', 'd'): 1, ('e', 'r', ' '): 1, ('r', ' ', 't'): 1, (' ', 'a', 'l'): 1, ('l', 'l', 'i'): 1, ('l', 'i', 'a'): 1, ('a', 'n', 'c'): 1, ('c', 'e', '’'): 1, ('e', '’', 's'): 1, ('’', 's', ' '): 1, ('y', ' ', 'u'): 1, (' ', 'u', 'm'): 1, ('u', 'm', 'b'): 1, ('m', 'b', 'r'): 1, ('b', 'r', 'e'): 1, ('r', 'e', 'l'): 1, ('e', 'l', 'l'): 1, ('l', 'l', 'a'): 1, ('l', 'a', '.'): 1}\n",
      "\n"
     ]
    }
   ],
   "source": [
    "char_ngrams, word_ngrams = count_ngrams(txt, 3)\n",
    "\n",
    "# 1. char 단위\n",
    "print(\"###### char #####\")\n",
    "print(char_ngrams)\n",
    "print()"
   ]
  },
  {
   "cell_type": "code",
   "execution_count": 82,
   "id": "6618f894",
   "metadata": {},
   "outputs": [
    {
     "name": "stdout",
     "output_type": "stream",
     "text": [
      "###### word #####\n",
      "{'the': 5, 'before': 2, 'security': 2, 'two': 2, 'countries': 2, 'is': 2, ('the', 'two'): 2, ('two', 'countries'): 2, ('the', 'two', 'countries'): 2, 'Biden,': 1, 'who': 1, 'met': 1, 'with': 1, 'Andersson': 1, 'and': 1, 'Finnish': 1, 'President': 1, 'Sauli': 1, 'Niinisto': 1, 'in': 1, 'Oval': 1, 'Office': 1, 'making': 1, 'public': 1, 'remarks,': 1, 'did': 1, 'not': 1, 'reference': 1, 'any': 1, 'specific': 1, 'measures': 1, 'United': 1, 'States': 1, 'would': 1, 'provide': 1, 'their': 1, 'membership': 1, 'finalized.': 1, 'The': 1, 'application': 1, 'period': 1, 'seen': 1, 'as': 1, 'a': 1, 'particularly': 1, 'vulnerable': 1, 'one,': 1, 'because': 1, 'are': 1, 'defying': 1, 'years': 1, 'of': 1, 'Russian': 1, 'threats': 1, 'against': 1, 'joining': 1, 'NATO': 1, 'but': 1, 'don’t': 1, 'yet': 1, 'fall': 1, 'under': 1, 'alliance’s': 1, 'umbrella.': 1, ('Biden,', 'who'): 1, ('who', 'met'): 1, ('met', 'with'): 1, ('with', 'Andersson'): 1, ('Andersson', 'and'): 1, ('and', 'Finnish'): 1, ('Finnish', 'President'): 1, ('President', 'Sauli'): 1, ('Sauli', 'Niinisto'): 1, ('Niinisto', 'in'): 1, ('in', 'the'): 1, ('the', 'Oval'): 1, ('Oval', 'Office'): 1, ('Office', 'before'): 1, ('before', 'making'): 1, ('making', 'public'): 1, ('public', 'remarks,'): 1, ('remarks,', 'did'): 1, ('did', 'not'): 1, ('not', 'reference'): 1, ('reference', 'any'): 1, ('any', 'specific'): 1, ('specific', 'security'): 1, ('security', 'measures'): 1, ('measures', 'the'): 1, ('the', 'United'): 1, ('United', 'States'): 1, ('States', 'would'): 1, ('would', 'provide'): 1, ('provide', 'the'): 1, ('countries', 'before'): 1, ('before', 'their'): 1, ('their', 'membership'): 1, ('membership', 'is'): 1, ('is', 'finalized.'): 1, ('finalized.', 'The'): 1, ('The', 'application'): 1, ('application', 'period'): 1, ('period', 'is'): 1, ('is', 'seen'): 1, ('seen', 'as'): 1, ('as', 'a'): 1, ('a', 'particularly'): 1, ('particularly', 'vulnerable'): 1, ('vulnerable', 'one,'): 1, ('one,', 'because'): 1, ('because', 'the'): 1, ('countries', 'are'): 1, ('are', 'defying'): 1, ('defying', 'years'): 1, ('years', 'of'): 1, ('of', 'Russian'): 1, ('Russian', 'threats'): 1, ('threats', 'against'): 1, ('against', 'joining'): 1, ('joining', 'NATO'): 1, ('NATO', 'but'): 1, ('but', 'don’t'): 1, ('don’t', 'yet'): 1, ('yet', 'fall'): 1, ('fall', 'under'): 1, ('under', 'the'): 1, ('the', 'alliance’s'): 1, ('alliance’s', 'security'): 1, ('security', 'umbrella.'): 1, ('Biden,', 'who', 'met'): 1, ('who', 'met', 'with'): 1, ('met', 'with', 'Andersson'): 1, ('with', 'Andersson', 'and'): 1, ('Andersson', 'and', 'Finnish'): 1, ('and', 'Finnish', 'President'): 1, ('Finnish', 'President', 'Sauli'): 1, ('President', 'Sauli', 'Niinisto'): 1, ('Sauli', 'Niinisto', 'in'): 1, ('Niinisto', 'in', 'the'): 1, ('in', 'the', 'Oval'): 1, ('the', 'Oval', 'Office'): 1, ('Oval', 'Office', 'before'): 1, ('Office', 'before', 'making'): 1, ('before', 'making', 'public'): 1, ('making', 'public', 'remarks,'): 1, ('public', 'remarks,', 'did'): 1, ('remarks,', 'did', 'not'): 1, ('did', 'not', 'reference'): 1, ('not', 'reference', 'any'): 1, ('reference', 'any', 'specific'): 1, ('any', 'specific', 'security'): 1, ('specific', 'security', 'measures'): 1, ('security', 'measures', 'the'): 1, ('measures', 'the', 'United'): 1, ('the', 'United', 'States'): 1, ('United', 'States', 'would'): 1, ('States', 'would', 'provide'): 1, ('would', 'provide', 'the'): 1, ('provide', 'the', 'two'): 1, ('two', 'countries', 'before'): 1, ('countries', 'before', 'their'): 1, ('before', 'their', 'membership'): 1, ('their', 'membership', 'is'): 1, ('membership', 'is', 'finalized.'): 1, ('is', 'finalized.', 'The'): 1, ('finalized.', 'The', 'application'): 1, ('The', 'application', 'period'): 1, ('application', 'period', 'is'): 1, ('period', 'is', 'seen'): 1, ('is', 'seen', 'as'): 1, ('seen', 'as', 'a'): 1, ('as', 'a', 'particularly'): 1, ('a', 'particularly', 'vulnerable'): 1, ('particularly', 'vulnerable', 'one,'): 1, ('vulnerable', 'one,', 'because'): 1, ('one,', 'because', 'the'): 1, ('because', 'the', 'two'): 1, ('two', 'countries', 'are'): 1, ('countries', 'are', 'defying'): 1, ('are', 'defying', 'years'): 1, ('defying', 'years', 'of'): 1, ('years', 'of', 'Russian'): 1, ('of', 'Russian', 'threats'): 1, ('Russian', 'threats', 'against'): 1, ('threats', 'against', 'joining'): 1, ('against', 'joining', 'NATO'): 1, ('joining', 'NATO', 'but'): 1, ('NATO', 'but', 'don’t'): 1, ('but', 'don’t', 'yet'): 1, ('don’t', 'yet', 'fall'): 1, ('yet', 'fall', 'under'): 1, ('fall', 'under', 'the'): 1, ('under', 'the', 'alliance’s'): 1, ('the', 'alliance’s', 'security'): 1, ('alliance’s', 'security', 'umbrella.'): 1}\n"
     ]
    }
   ],
   "source": [
    "# 2. word 단위\n",
    "print(\"###### word #####\")\n",
    "print(word_ngrams)"
   ]
  },
  {
   "cell_type": "code",
   "execution_count": null,
   "id": "b4abd434",
   "metadata": {},
   "outputs": [],
   "source": []
  }
 ],
 "metadata": {
  "kernelspec": {
   "display_name": "Python 3 (ipykernel)",
   "language": "python",
   "name": "python3"
  },
  "language_info": {
   "codemirror_mode": {
    "name": "ipython",
    "version": 3
   },
   "file_extension": ".py",
   "mimetype": "text/x-python",
   "name": "python",
   "nbconvert_exporter": "python",
   "pygments_lexer": "ipython3",
   "version": "3.9.7"
  }
 },
 "nbformat": 4,
 "nbformat_minor": 5
}
